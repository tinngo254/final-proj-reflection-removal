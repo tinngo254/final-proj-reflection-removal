{
 "cells": [
  {
   "cell_type": "code",
   "execution_count": 1,
   "metadata": {},
   "outputs": [],
   "source": [
    "from __future__ import division\n",
    "import os,time,cv2,scipy.io\n",
    "import tensorflow as tf\n",
    "# import tensorflow.contrib.slim as slim\n",
    "import tf_slim as slim\n",
    "\n",
    "import numpy as np\n",
    "import matplotlib.pyplot as plt\n",
    "# from discriminator import build_discriminator\n",
    "import scipy.stats as st"
   ]
  },
  {
   "cell_type": "code",
   "execution_count": 2,
   "metadata": {},
   "outputs": [
    {
     "name": "stdout",
     "output_type": "stream",
     "text": [
      "2.1.0\n",
      "WARNING:tensorflow:From <ipython-input-2-cba8a2e7faf2>:13: is_gpu_available (from tensorflow.python.framework.test_util) is deprecated and will be removed in a future version.\n",
      "Instructions for updating:\n",
      "Use `tf.config.list_physical_devices('GPU')` instead.\n",
      "GPU available: False\n"
     ]
    }
   ],
   "source": [
    "# ENVIRONMENT\n",
    "import os\n",
    "os.environ['TF_CPP_MIN_LOG_LEVEL'] = '2' \n",
    "import pathlib\n",
    "from glob import glob\n",
    "\n",
    "import warnings\n",
    "warnings.filterwarnings(\"ignore\")\n",
    "\n",
    "# TENSORFLOW 2.0\n",
    "import tensorflow as tf\n",
    "print(tf.__version__)\n",
    "print('GPU available:', tf.test.is_gpu_available())\n",
    "\n",
    "from tensorflow.keras.models import Model\n",
    "from tensorflow.python.keras.layers import Add, BatchNormalization, Conv2D, Dense, Flatten, Input, LeakyReLU, PReLU, Lambda, MaxPool2D\n",
    "from tensorflow.keras.optimizers.schedules import PiecewiseConstantDecay\n",
    "from tensorflow.keras.optimizers import Adam\n",
    "from tensorflow.keras.losses import BinaryCrossentropy, MeanAbsoluteError, MeanSquaredError\n",
    "binary_cross_entropy = BinaryCrossentropy()\n",
    "\n",
    "from tensorflow.keras.metrics import Mean\n",
    "\n",
    "import tensorflow.keras.backend as K\n",
    "from tensorflow.python.data.experimental import AUTOTUNE\n",
    "\n",
    "# ESSENTIAL \n",
    "import numpy as np\n",
    "from sklearn.model_selection import train_test_split\n",
    "\n",
    "# VISUALIZER\n",
    "import matplotlib.pyplot as plt\n",
    "plt.ioff()\n",
    "from IPython import display\n",
    "\n",
    "# UTILS\n",
    "import time\n",
    "from datetime import date\n",
    "from tqdm import tqdm"
   ]
  },
  {
   "cell_type": "code",
   "execution_count": 6,
   "metadata": {},
   "outputs": [],
   "source": [
    "import mahotas \n",
    "import imutils\n",
    "\n",
    "import matplotlib.pyplot as plt\n",
    "%matplotlib inline"
   ]
  },
  {
   "cell_type": "code",
   "execution_count": 22,
   "metadata": {},
   "outputs": [
    {
     "data": {
      "text/plain": [
       "'/home/jovyan/work/FinalProject'"
      ]
     },
     "execution_count": 22,
     "metadata": {},
     "output_type": "execute_result"
    }
   ],
   "source": [
    "pwd"
   ]
  },
  {
   "cell_type": "code",
   "execution_count": 26,
   "metadata": {},
   "outputs": [],
   "source": [
    "trans_test = cv2.imread('./Test-Images/back_2.jpg', -1)\n",
    "blend_test = cv2.imread('./Test-Images/blended_2.jpg', -1)"
   ]
  },
  {
   "cell_type": "code",
   "execution_count": 27,
   "metadata": {},
   "outputs": [
    {
     "data": {
      "text/plain": [
       "((1265, 1043, 3), (1265, 1043, 3))"
      ]
     },
     "execution_count": 27,
     "metadata": {},
     "output_type": "execute_result"
    }
   ],
   "source": [
    "trans_test.shape, blend_test.shape"
   ]
  },
  {
   "cell_type": "code",
   "execution_count": 42,
   "metadata": {},
   "outputs": [],
   "source": [
    "neww = 512\n",
    "newh = 512\n",
    "\n",
    "channel = 64"
   ]
  },
  {
   "cell_type": "code",
   "execution_count": 33,
   "metadata": {},
   "outputs": [],
   "source": [
    "output_t=cv2.resize(np.float32(trans_test),(neww,newh),cv2.INTER_CUBIC)/255.0\n",
    "output_b=cv2.resize(np.float32(blend_test),(neww,newh),cv2.INTER_CUBIC)/255.0"
   ]
  },
  {
   "cell_type": "code",
   "execution_count": 35,
   "metadata": {},
   "outputs": [],
   "source": [
    "# plt.figure(figsize=(12,8))\n",
    "# plt.imshow(imutils.opencv2matplotlib(output_t))\n",
    "# plt.show()\n",
    "\n",
    "# plt.figure(figsize=(12,8))\n",
    "# plt.imshow(imutils.opencv2matplotlib(output_b))\n",
    "# plt.show()"
   ]
  },
  {
   "cell_type": "code",
   "execution_count": 38,
   "metadata": {},
   "outputs": [],
   "source": [
    "output_t = np.expand_dims(output_t,axis=0)\n",
    "output_b = np.expand_dims(output_b,axis=0)"
   ]
  },
  {
   "cell_type": "code",
   "execution_count": 43,
   "metadata": {},
   "outputs": [],
   "source": [
    "x_input = tf.concat([output_t, output_b], axis=3)"
   ]
  },
  {
   "cell_type": "code",
   "execution_count": 45,
   "metadata": {},
   "outputs": [],
   "source": [
    "in_channels = x_input.get_shape()[3]\n",
    "out_channels = channel\n",
    "\n",
    "x_filter = tf.compat.v1.get_variable(\"filter\", [4, 4, in_channels, out_channels], dtype=tf.float32, \n",
    "                                    initializer=tf.compat.v1.random_normal_initializer(0, 0.02))\n",
    "# KERNEL_SIZE = 4"
   ]
  },
  {
   "cell_type": "code",
   "execution_count": 53,
   "metadata": {},
   "outputs": [
    {
     "data": {
      "text/plain": [
       "(6, 64, TensorShape([4, 4, 6, 64]))"
      ]
     },
     "execution_count": 53,
     "metadata": {},
     "output_type": "execute_result"
    }
   ],
   "source": [
    "in_channels, out_channels, x_filter.shape"
   ]
  },
  {
   "cell_type": "code",
   "execution_count": 52,
   "metadata": {},
   "outputs": [
    {
     "data": {
      "text/plain": [
       "TensorShape([1, 514, 514, 6])"
      ]
     },
     "execution_count": 52,
     "metadata": {},
     "output_type": "execute_result"
    }
   ],
   "source": [
    "padded_input = tf.pad(tensor=x_input, paddings=[[0, 0], [1, 1], [1, 1], [0, 0]], mode=\"CONSTANT\")\n",
    "padded_input.shape"
   ]
  },
  {
   "cell_type": "code",
   "execution_count": 80,
   "metadata": {},
   "outputs": [
    {
     "data": {
      "text/plain": [
       "array([0, 0])"
      ]
     },
     "execution_count": 80,
     "metadata": {},
     "output_type": "execute_result"
    }
   ],
   "source": [
    "padded = np.array([[0, 0], [1, 1], [1, 1], [0, 0]])\n",
    "padded[0,:]"
   ]
  },
  {
   "cell_type": "code",
   "execution_count": 190,
   "metadata": {},
   "outputs": [],
   "source": [
    "class Discriminator(object):\n",
    "    def __init__(self):\n",
    "        self.filters = 64\n",
    "        self.init_kernel = tf.initializers.he_normal(seed= None)\n",
    "        self.initializer = tf.random_normal_initializer(0., 0.02)\n",
    "    \n",
    "    def lrelu(self, x_in, a):\n",
    "        x = tf.identity(x_in)\n",
    "        return (0.5 * (1 + a)) * x + (0.5 * (1 - a)) * tf.abs(x)\n",
    "    \n",
    "    def conv_block(self, x_in, filters, strides, batch_norm= True, relu_act= True):\n",
    "#         x = tf.keras.layers.Lambda(lambda x: tf.pad(x_in, [[0, 0], [1, 1], [1, 1], [0, 0]], mode=\"CONSTANT\"))\n",
    "        x_in = tf.pad(x_in, [[0, 0], [1, 1], [1, 1], [0, 0]], mode=\"CONSTANT\")\n",
    "        x = tf.keras.layers.Conv2D(filters= filters, kernel_size= 4,\n",
    "                                   strides= strides, use_bias= False, \n",
    "                                   padding=\"VALID\",\n",
    "#                                    padding=\"SAME\", \n",
    "#                                    kernel_initializer= self.init_kernel,\n",
    "                                   kernel_initializer= self.initializer)(x_in)\n",
    "        if batch_norm:\n",
    "            x = BatchNormalization()(x)\n",
    "        if relu_act:\n",
    "            x = self.lrelu(x, 0.2)\n",
    "#             x = LeakyReLU(0.2)(x)\n",
    "        return x\n",
    "\n",
    "#     # with build(input_shape):\n",
    "#     def build(self, input_shape):\n",
    "#         inp = tf.keras.layers.Input(shape=input_shape, name='input_image')\n",
    "#         tar = tf.keras.layers.Input(shape=input_shape, name='target_image')\n",
    "\n",
    "#         x_in = tf.keras.layers.concatenate([inp, tar])\n",
    "    \n",
    "    # with build(discrim_inputs, discrim_targets):\n",
    "    def build(self, discrim_inputs, discrim_targets):\n",
    "        input_shape = tf.keras.layers.concatenate([discrim_inputs, discrim_targets]).shape\n",
    "        \n",
    "        x_in = tf.keras.layers.Input(shape=input_shape)\n",
    "        \n",
    "    # Discriminator Layers:     \n",
    "        x = self.conv_block(x_in, self.filters, 2, False)  #Layer 1, filters = 64        \n",
    "#         x = Conv2D(64, 4, strides= 2, use_bias= False, \n",
    "#                                    padding=\"SAME\", \n",
    "# #                                    kernel_initializer= self.init_kernel,\n",
    "#                                    kernel_initializer= self.initializer)(x_in)\n",
    "        \n",
    "        x = self.conv_block(x, self.filters *2, 2) #Layer 2, filters = 128\n",
    "        x = self.conv_block(x, self.filters *4, 2) #Layer 3, filters = 256\n",
    "        x = self.conv_block(x, self.filters *8, 1) #Layer 4, filters = 512  \n",
    "        x = self.conv_block(x, 1, 1, False, False) #Layer 5\n",
    "        \n",
    "        x = tf.keras.activations.sigmoid(x)\n",
    "#         x = tf.keras.layers.Dense(1, activation='sigmoid')(x)\n",
    "        \n",
    "        x = Model(x_in, x)\n",
    "        return x\n"
   ]
  },
  {
   "cell_type": "code",
   "execution_count": 156,
   "metadata": {},
   "outputs": [],
   "source": [
    "test_input = np.float32(np.random.rand(256, 256, 3))\n",
    "test_target = np.float32(np.random.rand(256, 256, 3))\n",
    "\n",
    "# test_input  = np.expand_dims(test_input, axis=0)\n",
    "# test_target = np.expand_dims(test_target, axis=0)"
   ]
  },
  {
   "cell_type": "code",
   "execution_count": 108,
   "metadata": {},
   "outputs": [
    {
     "data": {
      "text/plain": [
       "TensorShape([256, 256, 6])"
      ]
     },
     "execution_count": 108,
     "metadata": {},
     "output_type": "execute_result"
    }
   ],
   "source": [
    "test_input.shape, test_target.shape\n",
    "\n",
    "x_test = tf.keras.layers.concatenate([test_input, test_target])\n",
    "x_test.shape"
   ]
  },
  {
   "cell_type": "code",
   "execution_count": 191,
   "metadata": {},
   "outputs": [],
   "source": [
    "# discriminator = Discriminator().build(input_shape=(256, 256, 3))\n",
    "\n",
    "discriminator = Discriminator().build(test_input, test_target)"
   ]
  },
  {
   "cell_type": "code",
   "execution_count": 192,
   "metadata": {},
   "outputs": [
    {
     "name": "stdout",
     "output_type": "stream",
     "text": [
      "Model: \"model_32\"\n",
      "__________________________________________________________________________________________________\n",
      "Layer (type)                    Output Shape         Param #     Connected to                     \n",
      "==================================================================================================\n",
      "input_34 (InputLayer)           [(None, 256, 256, 6) 0                                            \n",
      "__________________________________________________________________________________________________\n",
      "tf_op_layer_Pad_15 (TensorFlowO [(None, 258, 258, 6) 0           input_34[0][0]                   \n",
      "__________________________________________________________________________________________________\n",
      "conv2d_169 (Conv2D)             (None, 128, 128, 64) 6144        tf_op_layer_Pad_15[0][0]         \n",
      "__________________________________________________________________________________________________\n",
      "tf_op_layer_Identity_125 (Tenso [(None, 128, 128, 64 0           conv2d_169[0][0]                 \n",
      "__________________________________________________________________________________________________\n",
      "tf_op_layer_Abs_125 (TensorFlow [(None, 128, 128, 64 0           tf_op_layer_Identity_125[0][0]   \n",
      "__________________________________________________________________________________________________\n",
      "tf_op_layer_mul_250 (TensorFlow [(None, 128, 128, 64 0           tf_op_layer_Identity_125[0][0]   \n",
      "__________________________________________________________________________________________________\n",
      "tf_op_layer_mul_251 (TensorFlow [(None, 128, 128, 64 0           tf_op_layer_Abs_125[0][0]        \n",
      "__________________________________________________________________________________________________\n",
      "tf_op_layer_add_125 (TensorFlow [(None, 128, 128, 64 0           tf_op_layer_mul_250[0][0]        \n",
      "                                                                 tf_op_layer_mul_251[0][0]        \n",
      "__________________________________________________________________________________________________\n",
      "tf_op_layer_Pad_16 (TensorFlowO [(None, 130, 130, 64 0           tf_op_layer_add_125[0][0]        \n",
      "__________________________________________________________________________________________________\n",
      "conv2d_170 (Conv2D)             (None, 64, 64, 128)  131072      tf_op_layer_Pad_16[0][0]         \n",
      "__________________________________________________________________________________________________\n",
      "batch_normalization_110 (BatchN (None, 64, 64, 128)  512         conv2d_170[0][0]                 \n",
      "__________________________________________________________________________________________________\n",
      "tf_op_layer_Identity_126 (Tenso [(None, 64, 64, 128) 0           batch_normalization_110[0][0]    \n",
      "__________________________________________________________________________________________________\n",
      "tf_op_layer_Abs_126 (TensorFlow [(None, 64, 64, 128) 0           tf_op_layer_Identity_126[0][0]   \n",
      "__________________________________________________________________________________________________\n",
      "tf_op_layer_mul_252 (TensorFlow [(None, 64, 64, 128) 0           tf_op_layer_Identity_126[0][0]   \n",
      "__________________________________________________________________________________________________\n",
      "tf_op_layer_mul_253 (TensorFlow [(None, 64, 64, 128) 0           tf_op_layer_Abs_126[0][0]        \n",
      "__________________________________________________________________________________________________\n",
      "tf_op_layer_add_126 (TensorFlow [(None, 64, 64, 128) 0           tf_op_layer_mul_252[0][0]        \n",
      "                                                                 tf_op_layer_mul_253[0][0]        \n",
      "__________________________________________________________________________________________________\n",
      "tf_op_layer_Pad_17 (TensorFlowO [(None, 66, 66, 128) 0           tf_op_layer_add_126[0][0]        \n",
      "__________________________________________________________________________________________________\n",
      "conv2d_171 (Conv2D)             (None, 32, 32, 256)  524288      tf_op_layer_Pad_17[0][0]         \n",
      "__________________________________________________________________________________________________\n",
      "batch_normalization_111 (BatchN (None, 32, 32, 256)  1024        conv2d_171[0][0]                 \n",
      "__________________________________________________________________________________________________\n",
      "tf_op_layer_Identity_127 (Tenso [(None, 32, 32, 256) 0           batch_normalization_111[0][0]    \n",
      "__________________________________________________________________________________________________\n",
      "tf_op_layer_Abs_127 (TensorFlow [(None, 32, 32, 256) 0           tf_op_layer_Identity_127[0][0]   \n",
      "__________________________________________________________________________________________________\n",
      "tf_op_layer_mul_254 (TensorFlow [(None, 32, 32, 256) 0           tf_op_layer_Identity_127[0][0]   \n",
      "__________________________________________________________________________________________________\n",
      "tf_op_layer_mul_255 (TensorFlow [(None, 32, 32, 256) 0           tf_op_layer_Abs_127[0][0]        \n",
      "__________________________________________________________________________________________________\n",
      "tf_op_layer_add_127 (TensorFlow [(None, 32, 32, 256) 0           tf_op_layer_mul_254[0][0]        \n",
      "                                                                 tf_op_layer_mul_255[0][0]        \n",
      "__________________________________________________________________________________________________\n",
      "tf_op_layer_Pad_18 (TensorFlowO [(None, 34, 34, 256) 0           tf_op_layer_add_127[0][0]        \n",
      "__________________________________________________________________________________________________\n",
      "conv2d_172 (Conv2D)             (None, 31, 31, 512)  2097152     tf_op_layer_Pad_18[0][0]         \n",
      "__________________________________________________________________________________________________\n",
      "batch_normalization_112 (BatchN (None, 31, 31, 512)  2048        conv2d_172[0][0]                 \n",
      "__________________________________________________________________________________________________\n",
      "tf_op_layer_Identity_128 (Tenso [(None, 31, 31, 512) 0           batch_normalization_112[0][0]    \n",
      "__________________________________________________________________________________________________\n",
      "tf_op_layer_Abs_128 (TensorFlow [(None, 31, 31, 512) 0           tf_op_layer_Identity_128[0][0]   \n",
      "__________________________________________________________________________________________________\n",
      "tf_op_layer_mul_256 (TensorFlow [(None, 31, 31, 512) 0           tf_op_layer_Identity_128[0][0]   \n",
      "__________________________________________________________________________________________________\n",
      "tf_op_layer_mul_257 (TensorFlow [(None, 31, 31, 512) 0           tf_op_layer_Abs_128[0][0]        \n",
      "__________________________________________________________________________________________________\n",
      "tf_op_layer_add_128 (TensorFlow [(None, 31, 31, 512) 0           tf_op_layer_mul_256[0][0]        \n",
      "                                                                 tf_op_layer_mul_257[0][0]        \n",
      "__________________________________________________________________________________________________\n",
      "tf_op_layer_Pad_19 (TensorFlowO [(None, 33, 33, 512) 0           tf_op_layer_add_128[0][0]        \n",
      "__________________________________________________________________________________________________\n",
      "conv2d_173 (Conv2D)             (None, 30, 30, 1)    8192        tf_op_layer_Pad_19[0][0]         \n",
      "__________________________________________________________________________________________________\n",
      "tf_op_layer_Sigmoid_20 (TensorF [(None, 30, 30, 1)]  0           conv2d_173[0][0]                 \n",
      "==================================================================================================\n",
      "Total params: 2,770,432\n",
      "Trainable params: 2,768,640\n",
      "Non-trainable params: 1,792\n",
      "__________________________________________________________________________________________________\n"
     ]
    }
   ],
   "source": [
    "discriminator.summary()"
   ]
  },
  {
   "cell_type": "code",
   "execution_count": 166,
   "metadata": {},
   "outputs": [],
   "source": [
    "# discriminator([s, v])"
   ]
  },
  {
   "cell_type": "code",
   "execution_count": null,
   "metadata": {},
   "outputs": [],
   "source": []
  }
 ],
 "metadata": {
  "kernelspec": {
   "display_name": "Python 3",
   "language": "python",
   "name": "python3"
  },
  "language_info": {
   "codemirror_mode": {
    "name": "ipython",
    "version": 3
   },
   "file_extension": ".py",
   "mimetype": "text/x-python",
   "name": "python",
   "nbconvert_exporter": "python",
   "pygments_lexer": "ipython3",
   "version": "3.7.4"
  }
 },
 "nbformat": 4,
 "nbformat_minor": 4
}
